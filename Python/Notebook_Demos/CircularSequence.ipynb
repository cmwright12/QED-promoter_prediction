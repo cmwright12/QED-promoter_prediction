{
 "cells": [
  {
   "cell_type": "markdown",
   "metadata": {},
   "source": [
    "# How to get a slice that wraps around a string"
   ]
  },
  {
   "cell_type": "code",
   "execution_count": 1,
   "metadata": {
    "collapsed": true
   },
   "outputs": [],
   "source": [
    "string = \"0123456789\""
   ]
  },
  {
   "cell_type": "markdown",
   "metadata": {},
   "source": [
    "Suppose I'm giving a starting position, and I want the 3 characters before and 2 characters after that position, so we get a string of length 6. This is fine if our starting position comes after 2 or before 8."
   ]
  },
  {
   "cell_type": "code",
   "execution_count": 2,
   "metadata": {
    "collapsed": false
   },
   "outputs": [
    {
     "name": "stdout",
     "output_type": "stream",
     "text": [
      "0 \n",
      "1 \n",
      "2 \n",
      "3 012345\n",
      "4 123456\n",
      "5 234567\n",
      "6 345678\n",
      "7 456789\n",
      "8 56789\n",
      "9 6789\n"
     ]
    }
   ],
   "source": [
    "left = 3    # upstream of sequence\n",
    "right = 2   # downstream of sequence\n",
    "for idx in range(len(string)):\n",
    "    print(idx, string[idx-left:idx+right+1])"
   ]
  },
  {
   "cell_type": "markdown",
   "metadata": {},
   "source": [
    "Suppose this is a circular string, like a bacterial genomic sequence. "
   ]
  },
  {
   "cell_type": "code",
   "execution_count": 3,
   "metadata": {
    "collapsed": false
   },
   "outputs": [
    {
     "data": {
      "text/plain": [
       "'...012345678901234567890123456789...'"
      ]
     },
     "execution_count": 3,
     "metadata": {},
     "output_type": "execute_result"
    }
   ],
   "source": [
    "\"...\" + string*3 + \"...\""
   ]
  },
  {
   "cell_type": "markdown",
   "metadata": {},
   "source": [
    "So if `(idx - left) < 0` or `(idx + right) > len(string)` we need to wrap around."
   ]
  },
  {
   "cell_type": "markdown",
   "metadata": {},
   "source": [
    "### Case 1: `(idx - left) < 0`"
   ]
  },
  {
   "cell_type": "markdown",
   "metadata": {},
   "source": [
    "...01234567 8*90**1**23* 4567890123456789..."
   ]
  },
  {
   "cell_type": "markdown",
   "metadata": {},
   "source": [
    "If we focused on index 1, we need to capture 890123."
   ]
  },
  {
   "cell_type": "markdown",
   "metadata": {},
   "source": [
    "We need to capture what's in bold: **0123**4567**89**"
   ]
  },
  {
   "cell_type": "code",
   "execution_count": 4,
   "metadata": {
    "collapsed": false
   },
   "outputs": [
    {
     "name": "stdout",
     "output_type": "stream",
     "text": [
      "0123 89\n"
     ]
    }
   ],
   "source": [
    "print( string[:4], string[-2:] )"
   ]
  },
  {
   "cell_type": "markdown",
   "metadata": {},
   "source": [
    "We are safe catching anything to the right (offset by 1), but then we have remaining characters we need to catch at the end of our sequence."
   ]
  },
  {
   "cell_type": "code",
   "execution_count": 5,
   "metadata": {
    "collapsed": false
   },
   "outputs": [
    {
     "name": "stdout",
     "output_type": "stream",
     "text": [
      "0123 89\n"
     ]
    }
   ],
   "source": [
    "idx = 1\n",
    "print( string[0:(idx+right+1)], string[-(left-idx):] )"
   ]
  },
  {
   "cell_type": "markdown",
   "metadata": {},
   "source": [
    "Notice that it only works for when the index is less than 3."
   ]
  },
  {
   "cell_type": "code",
   "execution_count": 6,
   "metadata": {
    "collapsed": false
   },
   "outputs": [
    {
     "name": "stdout",
     "output_type": "stream",
     "text": [
      "012 789\n",
      "0123 89\n",
      "01234 9\n",
      "012345 0123456789\n",
      "0123456789 56789\n"
     ]
    }
   ],
   "source": [
    "idx = 0\n",
    "print( string[0:(idx+right+1)], string[-(left-idx):] )\n",
    "idx = 1\n",
    "print( string[0:(idx+right+1)], string[-(left-idx):] )\n",
    "idx = 2\n",
    "print( string[0:(idx+right+1)], string[-(left-idx):] )\n",
    "idx = 3\n",
    "print( string[0:(idx+right+1)], string[-(left-idx):] )\n",
    "idx = 8\n",
    "print( string[0:(idx+right+1)], string[-(left-idx):] )"
   ]
  },
  {
   "cell_type": "markdown",
   "metadata": {},
   "source": [
    "### Case 2: `(idx + right) + 1 > len(string) `, alt.   `(len(string) - right) - 1 < idx`"
   ]
  },
  {
   "cell_type": "code",
   "execution_count": 7,
   "metadata": {
    "collapsed": false
   },
   "outputs": [
    {
     "name": "stdout",
     "output_type": "stream",
     "text": [
      "6789 01\n",
      "678901\n"
     ]
    }
   ],
   "source": [
    "idx = 9\n",
    "diff = len(string) - right - 1\n",
    "print( string[idx-left:], string[0:(idx - diff)] )\n",
    "print( string[idx-left:] + string[0:(idx - diff)] )"
   ]
  },
  {
   "cell_type": "markdown",
   "metadata": {},
   "source": [
    "Putting these two cases together, along with the case where no wrapping around is necessary, we can define the following function. Just plug in the position/index from which you want to go upstream and downstream."
   ]
  },
  {
   "cell_type": "code",
   "execution_count": 8,
   "metadata": {
    "collapsed": false
   },
   "outputs": [],
   "source": [
    "def cut_string(idx):\n",
    "    if idx - left < 0:\n",
    "        # wrap around left\n",
    "        segment = string[-(left-idx):] + string[0:(idx+right+1)]\n",
    "        print(segment)\n",
    "    elif idx + right + 1 > len(string):\n",
    "        # wrap around right\n",
    "        diff = len(string) - right - 1\n",
    "        segment = string[idx-left:] + string[0:(idx - diff)]\n",
    "        print(segment)\n",
    "    else:\n",
    "        segment = string[idx-left:idx+right+1]\n",
    "        print(segment)"
   ]
  },
  {
   "cell_type": "markdown",
   "metadata": {},
   "source": [
    "Let's check this. Run this function for every starting position of this string, from 0 to 9."
   ]
  },
  {
   "cell_type": "code",
   "execution_count": 9,
   "metadata": {
    "collapsed": false
   },
   "outputs": [
    {
     "name": "stdout",
     "output_type": "stream",
     "text": [
      "789012\n",
      "890123\n",
      "901234\n",
      "012345\n",
      "123456\n",
      "234567\n",
      "345678\n",
      "456789\n",
      "567890\n",
      "678901\n"
     ]
    }
   ],
   "source": [
    "for i in range(10):\n",
    "    cut_string(i)"
   ]
  },
  {
   "cell_type": "markdown",
   "metadata": {},
   "source": [
    "## Get promoter on circular genome"
   ]
  },
  {
   "cell_type": "markdown",
   "metadata": {},
   "source": [
    "Let's say we need to capture promoter regions 80 nt upstream and 20 nt downstream from a transcription site. If the transcription site position is 70, we will have a problem going 80 nt upstream. If the transcription site is less than 20 nucleotides away from the end of the sequence, we will also have a problem. But if our genome is circular, like many bacterial genomes are (e.g. e.coli), we need to wrap around the sequence."
   ]
  },
  {
   "cell_type": "markdown",
   "metadata": {},
   "source": [
    "A naive approach is to start by pasting 2-3 copies of the sequence together. That approach probably could have worked for the problem above since the sequence is so short. But the e. coli complete genome is almost 5 million base pairs long. That's already taking up a lot of memory when we have that stored as a string. So the approach spelled out above will work, we just need to modify it."
   ]
  },
  {
   "cell_type": "markdown",
   "metadata": {},
   "source": [
    "Since we have to do this for each transcription site, we will have to repeat this process many times. It's best to write this as a function. We need to provide the transcription site position, and how far up and down stream we will go. We also want the function to return a promoter."
   ]
  },
  {
   "cell_type": "code",
   "execution_count": 10,
   "metadata": {
    "collapsed": true
   },
   "outputs": [],
   "source": [
    "seq = \"AAAACCCCTTTTGGGG\"\n",
    "def subsequence(tss, upstream, downstream):\n",
    "    idx = tss\n",
    "    left = upstream\n",
    "    right = downstream\n",
    "    if idx - left < 0:\n",
    "        # wrap around left\n",
    "        promoter = seq[-(left-idx):] + seq[0:(idx+right+1)]\n",
    "        return promoter\n",
    "    elif idx + right + 1 > len(seq):\n",
    "        # wrap around right\n",
    "        diff = len(seq) - right - 1\n",
    "        promoter = seq[idx-left:] + seq[0:(idx % diff)]\n",
    "        return promoter\n",
    "    else:\n",
    "        promoter = seq[idx-left:idx+right+1]\n",
    "        return promoter"
   ]
  },
  {
   "cell_type": "code",
   "execution_count": 11,
   "metadata": {
    "collapsed": false
   },
   "outputs": [
    {
     "name": "stdout",
     "output_type": "stream",
     "text": [
      "A\n"
     ]
    },
    {
     "data": {
      "text/plain": [
       "'GGAAAACC'"
      ]
     },
     "execution_count": 11,
     "metadata": {},
     "output_type": "execute_result"
    }
   ],
   "source": [
    "idx = 2\n",
    "up = 4\n",
    "down = 3\n",
    "print(seq[idx])\n",
    "subsequence(idx, up, down)"
   ]
  },
  {
   "cell_type": "code",
   "execution_count": 12,
   "metadata": {
    "collapsed": false
   },
   "outputs": [
    {
     "name": "stdout",
     "output_type": "stream",
     "text": [
      "T\n"
     ]
    },
    {
     "data": {
      "text/plain": [
       "'GGAAAACCCCTTTTGG'"
      ]
     },
     "execution_count": 12,
     "metadata": {},
     "output_type": "execute_result"
    }
   ],
   "source": [
    "idx = 8\n",
    "up = 10\n",
    "down = 5\n",
    "print(seq[idx])\n",
    "subsequence(idx, up, down)"
   ]
  }
 ],
 "metadata": {
  "kernelspec": {
   "display_name": "Python 3",
   "language": "python",
   "name": "python3"
  },
  "language_info": {
   "codemirror_mode": {
    "name": "ipython",
    "version": 3
   },
   "file_extension": ".py",
   "mimetype": "text/x-python",
   "name": "python",
   "nbconvert_exporter": "python",
   "pygments_lexer": "ipython3",
   "version": "3.5.2"
  }
 },
 "nbformat": 4,
 "nbformat_minor": 2
}
