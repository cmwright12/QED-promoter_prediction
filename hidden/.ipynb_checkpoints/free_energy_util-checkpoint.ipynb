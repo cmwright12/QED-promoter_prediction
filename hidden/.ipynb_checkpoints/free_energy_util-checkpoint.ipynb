{
 "cells": [
  {
   "cell_type": "code",
   "execution_count": 3,
   "metadata": {
    "collapsed": false
   },
   "outputs": [],
   "source": [
    "dna = 'CGTTGA'\n",
    " \n",
    "pairs = {'A': 'T', 'C': 'G', 'G': 'C', 'T': 'A'}\n",
    "\n",
    "def comp(string):\n",
    "    complement = \"\"\n",
    "    for char in string:\n",
    "        complement += pairs[char]\n",
    "    return complement\n",
    "    \n",
    "def revcomp(string):\n",
    "    return comp(string)[::-1]\n",
    "         \n",
    "dinuc_53 =   [ 'AA',  'AT',  'TA',  'CA',  'GT',  'CT',  'GA',  'CG',  'GC',  'GG']\n",
    "energy_val = [-1.00, -0.88, -0.58, -1.45, -1.44, -1.28, -1.30, -2.17, -2.24, -1.84]\n",
    "\n",
    "d53 = {}\n",
    "for i in range(len(dinuc_53)):\n",
    "    d53[dinuc_53[i]] = energy_val[i]\n",
    "\n",
    "def nt_to_fe(dnt):\n",
    "    try:\n",
    "        idx = dinuc_53.index(dnt)\n",
    "    except:\n",
    "        idx = dinuc_53.index(revcomp(dnt))\n",
    "    \n",
    "    return energy_val[idx]\n",
    "\n",
    "    \n",
    "def conv_to_energy1(dna):    \n",
    "    energy_sum = 0\n",
    "    for i in range(len(dna)-1):\n",
    "        if dna[i:i+2] in d53.keys():  # is the dinucleotide in the dictionary\n",
    "            energy_sum += d53[dna[i:i+2]]\n",
    "        elif revcomp(dna[i:i+2]) in d53.keys():  # is its reverse complement in the dictionary\n",
    "            energy_sum += d53[revcomp(dna[i:i+2])]\n",
    "    return format(energy_sum + 0.98 + 1.03, '.2f')\n",
    "  \n",
    "def conv_to_energy2(dna):    \n",
    "    energy_sum = sum( d53[dna[i:i+2]] if dna[i:i+2] in d53.keys() else d53[revcomp(dna[i:i+2])] for i in range(len(dna)-1) )\n",
    "    return format(energy_sum + 0.98 + 1.03, '.2f')\n",
    "    \n",
    "#print(\"dna:\", dna)\n",
    "#print(conv_to_energy2(dna))\n"
   ]
  },
  {
   "cell_type": "code",
   "execution_count": null,
   "metadata": {
    "collapsed": true
   },
   "outputs": [],
   "source": []
  }
 ],
 "metadata": {
  "kernelspec": {
   "display_name": "Python 3",
   "language": "python",
   "name": "python3"
  },
  "language_info": {
   "codemirror_mode": {
    "name": "ipython",
    "version": 3
   },
   "file_extension": ".py",
   "mimetype": "text/x-python",
   "name": "python",
   "nbconvert_exporter": "python",
   "pygments_lexer": "ipython3",
   "version": "3.5.2"
  }
 },
 "nbformat": 4,
 "nbformat_minor": 1
}
