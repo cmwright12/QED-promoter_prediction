{
 "cells": [
  {
   "cell_type": "markdown",
   "metadata": {},
   "source": [
    "# Reading and Writing to Files\n",
    "\n",
    "1. Open and read text file\n",
    "2. Error handling\n",
    "3. Open and read csv file\n",
    "4. Open and read tsv file\n",
    "5. Save information while reading file\n",
    "6. Parsing lines"
   ]
  },
  {
   "cell_type": "markdown",
   "metadata": {},
   "source": [
    "A csv file is just a text file where commas are the separtor, i.e. commas separate the values for each row of data.\n",
    "The terms *separator* and *delimiter* are sometimes used interchangeably since any differences are very subtle. Another common separator is the tab delimiter, `\\t`, in tab-separated text files."
   ]
  },
  {
   "cell_type": "markdown",
   "metadata": {},
   "source": [
    "By itself, Python is capable of reading text files. But importing the `csv` module can simplify the process and help you avoid certain errors."
   ]
  },
  {
   "cell_type": "code",
   "execution_count": 1,
   "metadata": {
    "collapsed": true
   },
   "outputs": [],
   "source": [
    "import csv"
   ]
  },
  {
   "cell_type": "markdown",
   "metadata": {},
   "source": [
    "## Open and read a file"
   ]
  },
  {
   "cell_type": "code",
   "execution_count": 2,
   "metadata": {
    "collapsed": false
   },
   "outputs": [
    {
     "name": "stdout",
     "output_type": "stream",
     "text": [
      "['Steven', 'apples', '3.0']\n",
      "['Karen', 'apples', '5.6']\n"
     ]
    }
   ],
   "source": [
    "f = open('csvdemo.txt', 'r')\n",
    "try:\n",
    "    reader = csv.reader(f)\n",
    "    for row in reader:\n",
    "        if row[1] == 'apples':\n",
    "            print(row)\n",
    "finally:\n",
    "    f.close()"
   ]
  },
  {
   "cell_type": "code",
   "execution_count": 2,
   "metadata": {
    "collapsed": false
   },
   "outputs": [
    {
     "name": "stdout",
     "output_type": "stream",
     "text": [
      "['Steven', 'apples', '3.0']\n",
      "Steven\n",
      "Steven apples 3.0\n",
      "['Adam', 'cherries', '4.3']\n",
      "Adam\n",
      "Adam cherries 4.3\n",
      "['Karen', 'apples', '5.6']\n",
      "Karen\n",
      "Karen apples 5.6\n",
      "['April', 'grapes', '0.4']\n",
      "April\n",
      "April grapes 0.4\n"
     ]
    }
   ],
   "source": [
    "with open('csvdemo.txt') as csvfile:\n",
    "    readCSV = csv.reader(csvfile, delimiter=',')\n",
    "    for row in readCSV:\n",
    "        print(row)\n",
    "        print(row[0])\n",
    "        print(row[0],row[1],row[2],)"
   ]
  }
 ],
 "metadata": {
  "kernelspec": {
   "display_name": "Python 3",
   "language": "python",
   "name": "python3"
  },
  "language_info": {
   "codemirror_mode": {
    "name": "ipython",
    "version": 3
   },
   "file_extension": ".py",
   "mimetype": "text/x-python",
   "name": "python",
   "nbconvert_exporter": "python",
   "pygments_lexer": "ipython3",
   "version": "3.5.2"
  }
 },
 "nbformat": 4,
 "nbformat_minor": 1
}
