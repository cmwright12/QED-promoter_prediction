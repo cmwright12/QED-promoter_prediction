{
 "cells": [
  {
   "cell_type": "markdown",
   "metadata": {},
   "source": [
    "# Getting user input\n",
    "Use the 'input' command with a message for the user, and assign it to a well-labeled variable."
   ]
  },
  {
   "cell_type": "code",
   "execution_count": null,
   "metadata": {
    "collapsed": false
   },
   "outputs": [],
   "source": [
    "name = input(\"Enter a name: \")\n",
    "month = input(\"Enter a month: \")\n",
    "year = input(\"Enter a year: \")\n",
    "country = input(\"Enter a country: \")"
   ]
  },
  {
   "cell_type": "markdown",
   "metadata": {},
   "source": [
    "There are several ways to display this information in a message.\n",
    "## Method 1: In-line\n",
    "This method is very simple, but gets unwieldy the more output you have, especially if it involves different data types."
   ]
  },
  {
   "cell_type": "code",
   "execution_count": null,
   "metadata": {
    "collapsed": false
   },
   "outputs": [],
   "source": [
    "print(\"My name is\", name, \"and I live in\", country, \".\")"
   ]
  },
  {
   "cell_type": "code",
   "execution_count": null,
   "metadata": {
    "collapsed": false
   },
   "outputs": [],
   "source": [
    "print(\"My name is\", name, \"and I live in\", country, \". I was born in\", year, \".\")"
   ]
  },
  {
   "cell_type": "markdown",
   "metadata": {},
   "source": [
    "That's a lot of commas, and you have to be very careful between raw strings and variable names. Strings can be added together:"
   ]
  },
  {
   "cell_type": "code",
   "execution_count": null,
   "metadata": {
    "collapsed": false
   },
   "outputs": [],
   "source": [
    "print(\"My name is\" + name + \"and I live in\" + country + \".\")"
   ]
  },
  {
   "cell_type": "markdown",
   "metadata": {},
   "source": [
    "It's not really how we want it to look, right? With commas, Python automatically added some spacing. Here, we will have to do it manually."
   ]
  },
  {
   "cell_type": "code",
   "execution_count": null,
   "metadata": {
    "collapsed": false
   },
   "outputs": [],
   "source": [
    "print(\"My name is \" + name + \" and I live in \" + country + \".\")"
   ]
  },
  {
   "cell_type": "markdown",
   "metadata": {},
   "source": [
    "Ah, much better. One can debate whether trading out one single character for another single character is actually \"better\", but in my opinion the '+' sign looks more aesthetically pleasing and not as clunky. I still use commas quite often, but only if I am outputting one or two variables."
   ]
  },
  {
   "cell_type": "markdown",
   "metadata": {},
   "source": [
    "Let's add a sentence where we print the year."
   ]
  },
  {
   "cell_type": "code",
   "execution_count": null,
   "metadata": {
    "collapsed": false
   },
   "outputs": [],
   "source": [
    "print(\"My name is \" + name + \" and I live in \" + country + \". \" + name + \" was born in \" + year + \".\")"
   ]
  },
  {
   "cell_type": "markdown",
   "metadata": {},
   "source": [
    "So this even works for numbers and not just strings."
   ]
  },
  {
   "cell_type": "markdown",
   "metadata": {},
   "source": [
    "## Method 2: Format method\n",
    "This method uses placeholders, and you supply the values. There is a lot of flexibility in how you want your values to be displayed."
   ]
  },
  {
   "cell_type": "code",
   "execution_count": null,
   "metadata": {
    "collapsed": false
   },
   "outputs": [],
   "source": [
    "print(\"{} says: greater than {} is {}\".format(\"Yoda\", 20, 2000))"
   ]
  },
  {
   "cell_type": "markdown",
   "metadata": {},
   "source": [
    "If your message string is long, that can make your entire print command long and harder to debug and modify. The message string can be declared before your print command."
   ]
  },
  {
   "cell_type": "code",
   "execution_count": null,
   "metadata": {
    "collapsed": false
   },
   "outputs": [],
   "source": [
    "message = \"{} was born in {}, {}. Now {} lives in {}.\"\n",
    "print(message.format(name, month, year, name, country))"
   ]
  },
  {
   "cell_type": "markdown",
   "metadata": {},
   "source": [
    "So that's pretty much it. But we used *name* twice. What if we had ten sentences all starting with the name? Do we really need to write the variable *name* ten times? Take heart, there is a better way."
   ]
  },
  {
   "cell_type": "code",
   "execution_count": null,
   "metadata": {
    "collapsed": false
   },
   "outputs": [],
   "source": [
    "message2 = \"{0} was born in {1}, {2}. Now {0} lives in {3}.\"\n",
    "print(message2.format(name, month, year, country))"
   ]
  },
  {
   "cell_type": "markdown",
   "metadata": {},
   "source": [
    "So we just needed to list the values we will be using once. Remember that Python's indexing of lists of length *n* start at *0* and end at *n-1*."
   ]
  }
 ],
 "metadata": {
  "kernelspec": {
   "display_name": "Python 3",
   "language": "python",
   "name": "python3"
  },
  "language_info": {
   "codemirror_mode": {
    "name": "ipython",
    "version": 3
   },
   "file_extension": ".py",
   "mimetype": "text/x-python",
   "name": "python",
   "nbconvert_exporter": "python",
   "pygments_lexer": "ipython3",
   "version": "3.5.2"
  }
 },
 "nbformat": 4,
 "nbformat_minor": 1
}
