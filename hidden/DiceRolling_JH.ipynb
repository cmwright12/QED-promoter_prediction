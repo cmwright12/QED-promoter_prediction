{
 "cells": [
  {
   "cell_type": "code",
   "execution_count": 1,
   "metadata": {
    "collapsed": true
   },
   "outputs": [],
   "source": [
    "import random"
   ]
  },
  {
   "cell_type": "code",
   "execution_count": 2,
   "metadata": {
    "collapsed": false
   },
   "outputs": [],
   "source": [
    "def roll(sides=6):\n",
    "    num_rolled = random.randint(1, sides)\n",
    "    return num_rolled"
   ]
  },
  {
   "cell_type": "code",
   "execution_count": 9,
   "metadata": {
    "collapsed": true
   },
   "outputs": [],
   "source": [
    "def main():\n",
    "    #sides = 6 \n",
    "    rolling = True\n",
    "    while rolling:\n",
    "        roll_again = input(\"Ready to roll? ENTER = Roll. Q=Quit.\")\n",
    "        if roll_again.lower() != \"q\":\n",
    "            num_rolled= roll(8)\n",
    "            print(\"You rolled a\", num_rolled)\n",
    "        else: \n",
    "            rolling = False\n",
    "    print (\"Thanks for playing!\")"
   ]
  },
  {
   "cell_type": "code",
   "execution_count": 10,
   "metadata": {
    "collapsed": false
   },
   "outputs": [
    {
     "name": "stdout",
     "output_type": "stream",
     "text": [
      "Ready to roll? ENTER = Roll. Q=Quit.\n",
      "You rolled a 1\n",
      "Ready to roll? ENTER = Roll. Q=Quit.\n",
      "You rolled a 1\n",
      "Ready to roll? ENTER = Roll. Q=Quit.\n",
      "You rolled a 1\n",
      "Ready to roll? ENTER = Roll. Q=Quit.\n",
      "You rolled a 8\n",
      "Ready to roll? ENTER = Roll. Q=Quit.\n",
      "You rolled a 1\n",
      "Ready to roll? ENTER = Roll. Q=Quit.q\n",
      "Thanks for playing!\n"
     ]
    }
   ],
   "source": [
    "main()"
   ]
  },
  {
   "cell_type": "code",
   "execution_count": null,
   "metadata": {
    "collapsed": true
   },
   "outputs": [],
   "source": []
  }
 ],
 "metadata": {
  "anaconda-cloud": {},
  "kernelspec": {
   "display_name": "Python 3",
   "language": "python",
   "name": "python3"
  },
  "language_info": {
   "codemirror_mode": {
    "name": "ipython",
    "version": 3
   },
   "file_extension": ".py",
   "mimetype": "text/x-python",
   "name": "python",
   "nbconvert_exporter": "python",
   "pygments_lexer": "ipython3",
   "version": "3.5.2"
  }
 },
 "nbformat": 4,
 "nbformat_minor": 1
}
