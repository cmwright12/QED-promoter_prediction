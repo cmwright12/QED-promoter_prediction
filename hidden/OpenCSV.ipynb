{
 "cells": [
  {
   "cell_type": "code",
   "execution_count": 1,
   "metadata": {
    "collapsed": true
   },
   "outputs": [],
   "source": [
    "import sys\n",
    "import csv"
   ]
  },
  {
   "cell_type": "code",
   "execution_count": 2,
   "metadata": {
    "collapsed": true
   },
   "outputs": [],
   "source": [
    "try:\n",
    "    f_commas = open(\"csvdemo.txt\")\n",
    "except IOError:\n",
    "    sys.exit(\"File %s does not exist!!\"%(\"csvdemo.txt\"))"
   ]
  },
  {
   "cell_type": "code",
   "execution_count": 3,
   "metadata": {
    "collapsed": false
   },
   "outputs": [
    {
     "name": "stdout",
     "output_type": "stream",
     "text": [
      "Steven,apples,3.0\n",
      "\n",
      "Adam,cherries,4.3\n",
      "\n",
      "Karen,apples,5.6\n",
      "\n",
      "April,grapes,0.4\n"
     ]
    }
   ],
   "source": [
    "for line in f_commas:\n",
    "    print(line)"
   ]
  },
  {
   "cell_type": "code",
   "execution_count": 14,
   "metadata": {
    "collapsed": false
   },
   "outputs": [],
   "source": [
    "try:\n",
    "    f_tabs = open(\"tsvdemo.txt\")\n",
    "except IOError:\n",
    "    sys.exit(\"File %s does not exist!!\"%(\"tsvdemo.txt\"))"
   ]
  },
  {
   "cell_type": "code",
   "execution_count": 15,
   "metadata": {
    "collapsed": false
   },
   "outputs": [
    {
     "name": "stdout",
     "output_type": "stream",
     "text": [
      "Steven\tapples\t3.0\n",
      "\n",
      "Adam\tcherries\t4.3\n",
      "\n",
      "Karen\tapples\t5.6\n",
      "\n",
      "April\tgrapes\t0.4\n"
     ]
    }
   ],
   "source": [
    "for line in f_tabs:\n",
    "    print(line)"
   ]
  },
  {
   "cell_type": "code",
   "execution_count": null,
   "metadata": {
    "collapsed": true
   },
   "outputs": [],
   "source": []
  }
 ],
 "metadata": {
  "kernelspec": {
   "display_name": "Python 3",
   "language": "python",
   "name": "python3"
  },
  "language_info": {
   "codemirror_mode": {
    "name": "ipython",
    "version": 3
   },
   "file_extension": ".py",
   "mimetype": "text/x-python",
   "name": "python",
   "nbconvert_exporter": "python",
   "pygments_lexer": "ipython3",
   "version": "3.5.2"
  }
 },
 "nbformat": 4,
 "nbformat_minor": 1
}
