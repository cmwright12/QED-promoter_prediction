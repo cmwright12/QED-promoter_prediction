{
 "cells": [
  {
   "cell_type": "markdown",
   "metadata": {},
   "source": [
    "(Messages are not showing up in the notebook. Try this as a script.)"
   ]
  },
  {
   "cell_type": "code",
   "execution_count": 11,
   "metadata": {
    "collapsed": true
   },
   "outputs": [],
   "source": [
    "import logging\n",
    "logger = logging.getLogger('example')"
   ]
  },
  {
   "cell_type": "markdown",
   "metadata": {},
   "source": [
    "* CRITICAL - 50\n",
    "* ERROR    - 40\n",
    "* WARNING  - 30\n",
    "* INFO     - 20\n",
    "* DEBUG    - 10"
   ]
  },
  {
   "cell_type": "code",
   "execution_count": 16,
   "metadata": {
    "collapsed": true
   },
   "outputs": [],
   "source": [
    "format = \"%(asctime)s [%(levelname)s] %(message)s\"\n",
    "logging.basicConfig(format=format, level=logging.DEBUG)\n",
    "# logging.basicConfig(level=10)"
   ]
  },
  {
   "cell_type": "code",
   "execution_count": 22,
   "metadata": {
    "collapsed": true
   },
   "outputs": [],
   "source": [
    "class Item(object):\n",
    "    \"\"\"Base Item class\"\"\"\n",
    "    \n",
    "    def __init__(self, name, value):\n",
    "        self.name = name\n",
    "        self.value = value\n",
    "        logger.debug(\"Item created: {}({})\".format(self.name, self.value))\n",
    "        \n",
    "    def buy(self, quantity=1):\n",
    "        \"\"\"Buys item\"\"\"\n",
    "        logger.debug(\"Bought item {}\".format(self.name))\n",
    "        \n",
    "    def sell(self, quantity=1):\n",
    "        \"\"\"Sells item\"\"\"\n",
    "        logger.warn(\"Sold item {}\".format(self.name))"
   ]
  },
  {
   "cell_type": "code",
   "execution_count": 18,
   "metadata": {
    "collapsed": false
   },
   "outputs": [],
   "source": [
    "item_01 = Item('sword', 150)"
   ]
  },
  {
   "cell_type": "code",
   "execution_count": 19,
   "metadata": {
    "collapsed": true
   },
   "outputs": [],
   "source": [
    "item_01.buy()"
   ]
  },
  {
   "cell_type": "code",
   "execution_count": 21,
   "metadata": {
    "collapsed": true
   },
   "outputs": [],
   "source": [
    "item_01.sell()"
   ]
  },
  {
   "cell_type": "code",
   "execution_count": 44,
   "metadata": {
    "collapsed": true
   },
   "outputs": [],
   "source": [
    "format = \"%(asctime)s [%(levelname)s] %(message)s\"\n",
    "logging.basicConfig(format=format, level=logging.DEBUG)\n",
    "# logging.basicConfig(level=10)"
   ]
  },
  {
   "cell_type": "code",
   "execution_count": 45,
   "metadata": {
    "collapsed": true
   },
   "outputs": [],
   "source": [
    "class Item(object):\n",
    "    \"\"\"Base Item class\"\"\"\n",
    "    \n",
    "    def __init__(self, name, value):\n",
    "        self.name = name\n",
    "        self.value = value\n",
    "        #logger.debug(\"Item created: {}({})\".format(self.name, self.value))\n",
    "        logger.info(\"Item created: {}({})\".format(self.name, self.value))\n",
    "        \n",
    "    def buy(self, quantity=1):\n",
    "        \"\"\"Buys item\"\"\"\n",
    "        logger.debug(\"Bought item {}\".format(self.name))\n",
    "        \n",
    "    def sell(self, quantity=1):\n",
    "        \"\"\"Sells item\"\"\"\n",
    "        #logger.debug(\"Sold item {}\".format(self.name))\n",
    "        logger.warning(\"Sold item {}\".format(self.name))"
   ]
  },
  {
   "cell_type": "code",
   "execution_count": 46,
   "metadata": {
    "collapsed": false
   },
   "outputs": [],
   "source": [
    "items = []\n",
    "for i in range(100):\n",
    "    items.append(Item('coin_' + str(i), 50))"
   ]
  },
  {
   "cell_type": "code",
   "execution_count": 47,
   "metadata": {
    "collapsed": false
   },
   "outputs": [],
   "source": [
    "for item in items:\n",
    "    item.buy()"
   ]
  },
  {
   "cell_type": "code",
   "execution_count": 48,
   "metadata": {
    "collapsed": false
   },
   "outputs": [
    {
     "name": "stderr",
     "output_type": "stream",
     "text": [
      "WARNING:example:Sold item coin_0\n",
      "WARNING:example:Sold item coin_1\n",
      "WARNING:example:Sold item coin_2\n",
      "WARNING:example:Sold item coin_3\n",
      "WARNING:example:Sold item coin_4\n",
      "WARNING:example:Sold item coin_5\n",
      "WARNING:example:Sold item coin_6\n",
      "WARNING:example:Sold item coin_7\n",
      "WARNING:example:Sold item coin_8\n",
      "WARNING:example:Sold item coin_9\n",
      "WARNING:example:Sold item coin_10\n",
      "WARNING:example:Sold item coin_11\n",
      "WARNING:example:Sold item coin_12\n",
      "WARNING:example:Sold item coin_13\n",
      "WARNING:example:Sold item coin_14\n",
      "WARNING:example:Sold item coin_15\n",
      "WARNING:example:Sold item coin_16\n",
      "WARNING:example:Sold item coin_17\n",
      "WARNING:example:Sold item coin_18\n",
      "WARNING:example:Sold item coin_19\n",
      "WARNING:example:Sold item coin_20\n",
      "WARNING:example:Sold item coin_21\n",
      "WARNING:example:Sold item coin_22\n",
      "WARNING:example:Sold item coin_23\n",
      "WARNING:example:Sold item coin_24\n",
      "WARNING:example:Sold item coin_25\n",
      "WARNING:example:Sold item coin_26\n",
      "WARNING:example:Sold item coin_27\n",
      "WARNING:example:Sold item coin_28\n",
      "WARNING:example:Sold item coin_29\n",
      "WARNING:example:Sold item coin_30\n",
      "WARNING:example:Sold item coin_31\n",
      "WARNING:example:Sold item coin_32\n",
      "WARNING:example:Sold item coin_33\n",
      "WARNING:example:Sold item coin_34\n",
      "WARNING:example:Sold item coin_35\n",
      "WARNING:example:Sold item coin_36\n",
      "WARNING:example:Sold item coin_37\n",
      "WARNING:example:Sold item coin_38\n",
      "WARNING:example:Sold item coin_39\n",
      "WARNING:example:Sold item coin_40\n",
      "WARNING:example:Sold item coin_41\n",
      "WARNING:example:Sold item coin_42\n",
      "WARNING:example:Sold item coin_43\n",
      "WARNING:example:Sold item coin_44\n",
      "WARNING:example:Sold item coin_45\n",
      "WARNING:example:Sold item coin_46\n",
      "WARNING:example:Sold item coin_47\n",
      "WARNING:example:Sold item coin_48\n",
      "WARNING:example:Sold item coin_49\n",
      "WARNING:example:Sold item coin_50\n",
      "WARNING:example:Sold item coin_51\n",
      "WARNING:example:Sold item coin_52\n",
      "WARNING:example:Sold item coin_53\n",
      "WARNING:example:Sold item coin_54\n",
      "WARNING:example:Sold item coin_55\n",
      "WARNING:example:Sold item coin_56\n",
      "WARNING:example:Sold item coin_57\n",
      "WARNING:example:Sold item coin_58\n",
      "WARNING:example:Sold item coin_59\n",
      "WARNING:example:Sold item coin_60\n",
      "WARNING:example:Sold item coin_61\n",
      "WARNING:example:Sold item coin_62\n",
      "WARNING:example:Sold item coin_63\n",
      "WARNING:example:Sold item coin_64\n",
      "WARNING:example:Sold item coin_65\n",
      "WARNING:example:Sold item coin_66\n",
      "WARNING:example:Sold item coin_67\n",
      "WARNING:example:Sold item coin_68\n",
      "WARNING:example:Sold item coin_69\n",
      "WARNING:example:Sold item coin_70\n",
      "WARNING:example:Sold item coin_71\n",
      "WARNING:example:Sold item coin_72\n",
      "WARNING:example:Sold item coin_73\n",
      "WARNING:example:Sold item coin_74\n",
      "WARNING:example:Sold item coin_75\n",
      "WARNING:example:Sold item coin_76\n",
      "WARNING:example:Sold item coin_77\n",
      "WARNING:example:Sold item coin_78\n",
      "WARNING:example:Sold item coin_79\n",
      "WARNING:example:Sold item coin_80\n",
      "WARNING:example:Sold item coin_81\n",
      "WARNING:example:Sold item coin_82\n",
      "WARNING:example:Sold item coin_83\n",
      "WARNING:example:Sold item coin_84\n",
      "WARNING:example:Sold item coin_85\n",
      "WARNING:example:Sold item coin_86\n",
      "WARNING:example:Sold item coin_87\n",
      "WARNING:example:Sold item coin_88\n",
      "WARNING:example:Sold item coin_89\n",
      "WARNING:example:Sold item coin_90\n",
      "WARNING:example:Sold item coin_91\n",
      "WARNING:example:Sold item coin_92\n",
      "WARNING:example:Sold item coin_93\n",
      "WARNING:example:Sold item coin_94\n",
      "WARNING:example:Sold item coin_95\n",
      "WARNING:example:Sold item coin_96\n",
      "WARNING:example:Sold item coin_97\n",
      "WARNING:example:Sold item coin_98\n",
      "WARNING:example:Sold item coin_99\n"
     ]
    }
   ],
   "source": [
    "for item in items:\n",
    "    item.sell()"
   ]
  },
  {
   "cell_type": "code",
   "execution_count": null,
   "metadata": {
    "collapsed": true
   },
   "outputs": [],
   "source": []
  }
 ],
 "metadata": {
  "kernelspec": {
   "display_name": "Python 3",
   "language": "python",
   "name": "python3"
  },
  "language_info": {
   "codemirror_mode": {
    "name": "ipython",
    "version": 3
   },
   "file_extension": ".py",
   "mimetype": "text/x-python",
   "name": "python",
   "nbconvert_exporter": "python",
   "pygments_lexer": "ipython3",
   "version": "3.5.2"
  }
 },
 "nbformat": 4,
 "nbformat_minor": 2
}
