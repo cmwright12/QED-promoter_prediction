{
 "cells": [
  {
   "cell_type": "markdown",
   "metadata": {},
   "source": [
    "# Reading and Writing to Files\n",
    "\n",
    "1. Open and read text file\n",
    "2. Open and read csv or tsv file\n",
    "3. Parsing lines and saving information\n",
    "4. Files with headers\n",
    "5. Converting from string to other data types\n",
    "6. Performing operations\n",
    "7. Writing to a file"
   ]
  },
  {
   "cell_type": "markdown",
   "metadata": {},
   "source": [
    "## Open and read a text file"
   ]
  },
  {
   "cell_type": "code",
   "execution_count": 1,
   "metadata": {
    "collapsed": false
   },
   "outputs": [
    {
     "name": "stdout",
     "output_type": "stream",
     "text": [
      "Steven,apples,3.0\n",
      "\n",
      "Adam,cherries,4.3\n",
      "\n",
      "Karen,apples,5.6\n",
      "\n",
      "April,grapes,0.4\n"
     ]
    }
   ],
   "source": [
    "f = open(\"files/csvdemo.txt\")\n",
    "for line in f:\n",
    "    print(line)"
   ]
  },
  {
   "cell_type": "markdown",
   "metadata": {},
   "source": [
    "Note that these are read as strings."
   ]
  },
  {
   "cell_type": "code",
   "execution_count": 2,
   "metadata": {
    "collapsed": false
   },
   "outputs": [
    {
     "name": "stdout",
     "output_type": "stream",
     "text": [
      "<class 'str'>\n",
      "<class 'str'>\n",
      "<class 'str'>\n",
      "<class 'str'>\n"
     ]
    }
   ],
   "source": [
    "f = open(\"files/csvdemo.txt\")\n",
    "for line in f:\n",
    "    print(type(line))"
   ]
  },
  {
   "cell_type": "markdown",
   "metadata": {},
   "source": [
    "## Open and read a csv file"
   ]
  },
  {
   "cell_type": "markdown",
   "metadata": {},
   "source": [
    "A csv file is just a text file where commas are the separtor, i.e. commas separate the values for each row of data.\n",
    "The terms *separator* and *delimiter* are sometimes used interchangeably since any differences are very subtle. Another common separator is the tab delimiter, `\\t`, in tab-separated text files. Note that extension can be .csv or .tsv, but you can also use it on .txt files you know are formatted with a certain delimiter."
   ]
  },
  {
   "cell_type": "markdown",
   "metadata": {},
   "source": [
    "By itself, Python is capable of reading text files. But importing the `csv` module can simplify the process and help you avoid certain errors."
   ]
  },
  {
   "cell_type": "code",
   "execution_count": 4,
   "metadata": {
    "collapsed": true
   },
   "outputs": [],
   "source": [
    "import csv"
   ]
  },
  {
   "cell_type": "code",
   "execution_count": 5,
   "metadata": {
    "collapsed": false
   },
   "outputs": [
    {
     "name": "stdout",
     "output_type": "stream",
     "text": [
      "['Steven', 'apples', '3.0']\n",
      "['Adam', 'cherries', '4.3']\n",
      "['Karen', 'apples', '5.6']\n",
      "['April', 'grapes', '0.4']\n"
     ]
    }
   ],
   "source": [
    "with open('files/csvdemo.txt') as csvfile:\n",
    "    readCSV = csv.reader(csvfile)\n",
    "    for row in readCSV:\n",
    "        print(row)"
   ]
  },
  {
   "cell_type": "markdown",
   "metadata": {},
   "source": [
    "Note that when using the `csv` module, the each line is now read as a list, which makes it easier to access the information."
   ]
  },
  {
   "cell_type": "code",
   "execution_count": 6,
   "metadata": {
    "collapsed": false
   },
   "outputs": [
    {
     "name": "stdout",
     "output_type": "stream",
     "text": [
      "Steven\n",
      "Steven apples 3.0\n",
      "Adam\n",
      "Adam cherries 4.3\n",
      "Karen\n",
      "Karen apples 5.6\n",
      "April\n",
      "April grapes 0.4\n"
     ]
    }
   ],
   "source": [
    "with open('files/csvdemo.txt') as csvfile:\n",
    "    readCSV = csv.reader(csvfile, delimiter=',')\n",
    "    for row in readCSV:\n",
    "        #print(row)\n",
    "        print(row[0])\n",
    "        print(row[0],row[1],row[2],)"
   ]
  },
  {
   "cell_type": "markdown",
   "metadata": {},
   "source": [
    "## Opening a tsv file"
   ]
  },
  {
   "cell_type": "markdown",
   "metadata": {},
   "source": [
    "Same as before, but now you have to specify the tab delimiter."
   ]
  },
  {
   "cell_type": "code",
   "execution_count": 9,
   "metadata": {
    "collapsed": false
   },
   "outputs": [
    {
     "name": "stdout",
     "output_type": "stream",
     "text": [
      "['Steven', 'apples', '3.0']\n",
      "['Adam', 'cherries', '4.3']\n",
      "['Karen', 'apples', '5.6']\n",
      "['April', 'grapes', '0.4']\n"
     ]
    }
   ],
   "source": [
    "with open('files/tsvdemo.txt') as f:\n",
    "    reader = csv.reader(f, delimiter=\"\\t\")\n",
    "    for row in reader:\n",
    "        print(row)"
   ]
  },
  {
   "cell_type": "markdown",
   "metadata": {},
   "source": [
    "## Parsing lines"
   ]
  },
  {
   "cell_type": "markdown",
   "metadata": {},
   "source": [
    "As you loop through each row/line, you can parse the information by setting conditions."
   ]
  },
  {
   "cell_type": "code",
   "execution_count": 10,
   "metadata": {
    "collapsed": false
   },
   "outputs": [
    {
     "name": "stdout",
     "output_type": "stream",
     "text": [
      "['Steven', 'apples', '3.0']\n",
      "['Karen', 'apples', '5.6']\n"
     ]
    }
   ],
   "source": [
    "with open('files/tsvdemo.txt') as f:\n",
    "    reader = csv.reader(f, delimiter=\"\\t\")\n",
    "    for row in reader:\n",
    "        if row[1] == 'apples':\n",
    "            print(row)"
   ]
  },
  {
   "cell_type": "code",
   "execution_count": 11,
   "metadata": {
    "collapsed": false
   },
   "outputs": [
    {
     "name": "stdout",
     "output_type": "stream",
     "text": [
      "['Steven', 'apples', '3.0']\n",
      "['Karen', 'apples', '5.6']\n"
     ]
    }
   ],
   "source": [
    "with open('files/tsvdemo.txt') as f:\n",
    "    reader = csv.reader(f, delimiter=\"\\t\")\n",
    "    for row in reader:\n",
    "        if 'apples' in row:\n",
    "            print(row)"
   ]
  },
  {
   "cell_type": "code",
   "execution_count": 12,
   "metadata": {
    "collapsed": false
   },
   "outputs": [
    {
     "name": "stdout",
     "output_type": "stream",
     "text": [
      "['Adam', 'cherries', '4.3']\n",
      "['April', 'grapes', '0.4']\n"
     ]
    }
   ],
   "source": [
    "with open('files/tsvdemo.txt') as f:\n",
    "    reader = csv.reader(f, delimiter=\"\\t\")\n",
    "    for row in reader:\n",
    "        if not 'apples' in row:\n",
    "            print(row)"
   ]
  },
  {
   "cell_type": "code",
   "execution_count": 13,
   "metadata": {
    "collapsed": false
   },
   "outputs": [
    {
     "name": "stdout",
     "output_type": "stream",
     "text": [
      "['Steven', 'apples', '3.0']\n",
      "['Adam', 'cherries', '4.3']\n",
      "['Karen', 'apples', '5.6']\n"
     ]
    }
   ],
   "source": [
    "with open('files/tsvdemo.txt') as f:\n",
    "    reader = csv.reader(f, delimiter=\"\\t\")\n",
    "    for row in reader:\n",
    "        if 'cherries' in row or 'apples' in row:\n",
    "            print(row)"
   ]
  },
  {
   "cell_type": "markdown",
   "metadata": {},
   "source": [
    "## Save information while reading file"
   ]
  },
  {
   "cell_type": "code",
   "execution_count": 14,
   "metadata": {
    "collapsed": false
   },
   "outputs": [
    {
     "name": "stdout",
     "output_type": "stream",
     "text": [
      "['Steven', 'Adam', 'Karen', 'April']\n",
      "['apples', 'cherries', 'apples', 'grapes']\n",
      "['3.0', '4.3', '5.6', '0.4']\n"
     ]
    }
   ],
   "source": [
    "people = []\n",
    "fruit = []\n",
    "ounces = []\n",
    "\n",
    "with open('files/tsvdemo.txt') as f:\n",
    "    reader = csv.reader(f, delimiter=\"\\t\")   \n",
    "    for row in reader:\n",
    "        people.append(row[0])\n",
    "        fruit.append(row[1])\n",
    "        ounces.append(row[2])\n",
    "        \n",
    "print(people)\n",
    "print(fruit)\n",
    "print(ounces)"
   ]
  },
  {
   "cell_type": "markdown",
   "metadata": {},
   "source": [
    "To get a list of fruit without duplicates, one can easily do:"
   ]
  },
  {
   "cell_type": "code",
   "execution_count": 12,
   "metadata": {
    "collapsed": false
   },
   "outputs": [
    {
     "name": "stdout",
     "output_type": "stream",
     "text": [
      "['cherries', 'grapes', 'apples']\n"
     ]
    }
   ],
   "source": [
    "unique_fruit = list(set(fruit))\n",
    "print(unique_fruit)"
   ]
  },
  {
   "cell_type": "markdown",
   "metadata": {},
   "source": [
    "If keeping the order is important, you can do:"
   ]
  },
  {
   "cell_type": "code",
   "execution_count": 13,
   "metadata": {
    "collapsed": false
   },
   "outputs": [
    {
     "name": "stdout",
     "output_type": "stream",
     "text": [
      "['apples', 'cherries', 'grapes']\n"
     ]
    }
   ],
   "source": [
    "from collections import OrderedDict\n",
    "unique_fruit = list(OrderedDict.fromkeys(fruit))\n",
    "print(unique_fruit)"
   ]
  },
  {
   "cell_type": "markdown",
   "metadata": {},
   "source": [
    "You can also do:"
   ]
  },
  {
   "cell_type": "code",
   "execution_count": 14,
   "metadata": {
    "collapsed": false
   },
   "outputs": [
    {
     "name": "stdout",
     "output_type": "stream",
     "text": [
      "['apples', 'cherries', 'grapes']\n"
     ]
    }
   ],
   "source": [
    "from more_itertools import unique_everseen\n",
    "unique_fruit = list(unique_everseen(fruit))\n",
    "print(unique_fruit)"
   ]
  },
  {
   "cell_type": "code",
   "execution_count": 15,
   "metadata": {
    "collapsed": false
   },
   "outputs": [
    {
     "name": "stdout",
     "output_type": "stream",
     "text": [
      "The slowest run took 8.52 times longer than the fastest. This could mean that an intermediate result is being cached.\n",
      "100000 loops, best of 3: 1.25 µs per loop\n"
     ]
    }
   ],
   "source": [
    "%timeit list(OrderedDict.fromkeys(fruit))"
   ]
  },
  {
   "cell_type": "code",
   "execution_count": 16,
   "metadata": {
    "collapsed": false
   },
   "outputs": [
    {
     "name": "stdout",
     "output_type": "stream",
     "text": [
      "The slowest run took 4.80 times longer than the fastest. This could mean that an intermediate result is being cached.\n",
      "100000 loops, best of 3: 1.64 µs per loop\n"
     ]
    }
   ],
   "source": [
    "%timeit list(unique_everseen(fruit))"
   ]
  },
  {
   "cell_type": "markdown",
   "metadata": {},
   "source": [
    "It's not clear which method is best. Sometimes performance depends on the size of the object. Here the length of the list is so short that the time difference is insignificant. Some things are just decided by trial-and-error within your program."
   ]
  },
  {
   "cell_type": "markdown",
   "metadata": {},
   "source": [
    "## Files with headers"
   ]
  },
  {
   "cell_type": "code",
   "execution_count": 15,
   "metadata": {
    "collapsed": false
   },
   "outputs": [
    {
     "name": "stdout",
     "output_type": "stream",
     "text": [
      "['ID', 'Fruit', 'Quantity']\n",
      "['189', 'Apples', '73']\n",
      "['283', 'Cherries', '85']\n",
      "['893', 'Pears', '14']\n",
      "['920', 'Oranges', '52']\n",
      "['732', 'Apples', '152']\n",
      "['302', 'Pears', '23']\n"
     ]
    }
   ],
   "source": [
    "with open('files/data_tab.txt') as f:\n",
    "    reader = csv.reader(f, delimiter=\"\\t\")\n",
    "    for row in reader:\n",
    "        print(row)"
   ]
  },
  {
   "cell_type": "code",
   "execution_count": 16,
   "metadata": {
    "collapsed": false
   },
   "outputs": [
    {
     "name": "stdout",
     "output_type": "stream",
     "text": [
      "['ID', 'Fruit', 'Quantity']\n",
      "Now print the data\n",
      "['189', 'Apples', '73']\n",
      "['283', 'Cherries', '85']\n",
      "['893', 'Pears', '14']\n",
      "['920', 'Oranges', '52']\n",
      "['732', 'Apples', '152']\n",
      "['302', 'Pears', '23']\n"
     ]
    }
   ],
   "source": [
    "with open('files/data_tab.txt') as f:\n",
    "    reader = csv.reader(f, delimiter=\"\\t\")\n",
    "    header = next(reader)\n",
    "    print(header)\n",
    "    print(\"Now print the data\")\n",
    "    for row in reader:\n",
    "        print(row)"
   ]
  },
  {
   "cell_type": "markdown",
   "metadata": {},
   "source": [
    "This a list of strings, but some of these need to be converted to numerical values. We can do that as we loop through and save the information.\n",
    "## Converting from string to other data types"
   ]
  },
  {
   "cell_type": "code",
   "execution_count": 17,
   "metadata": {
    "collapsed": false
   },
   "outputs": [],
   "source": [
    "with open('files/data_tab.txt') as f:\n",
    "    reader = csv.reader(f, delimiter=\"\\t\")\n",
    "    header = next(reader)\n",
    "    #print(header)\n",
    "\n",
    "    ids = []\n",
    "    fruit = []\n",
    "    quantities = []\n",
    "    \n",
    "    for row in reader:\n",
    "        if not 'Cherries' in row:\n",
    "            ids.append(int(row[0]))\n",
    "            fruit.append(row[1])\n",
    "            quantities.append(float(row[2]))"
   ]
  },
  {
   "cell_type": "code",
   "execution_count": 20,
   "metadata": {
    "collapsed": false
   },
   "outputs": [
    {
     "name": "stdout",
     "output_type": "stream",
     "text": [
      "[189, 893, 920, 732, 302]\n",
      "['Apples', 'Pears', 'Oranges', 'Apples', 'Pears']\n",
      "[73.0, 14.0, 52.0, 152.0, 23.0]\n"
     ]
    }
   ],
   "source": [
    "print(ids)\n",
    "print(fruit)\n",
    "print(quantities)"
   ]
  },
  {
   "cell_type": "markdown",
   "metadata": {},
   "source": [
    "You can also save data into a Python dictionary"
   ]
  },
  {
   "cell_type": "code",
   "execution_count": 18,
   "metadata": {
    "collapsed": false
   },
   "outputs": [],
   "source": [
    "with open('files/data_tab.txt') as f:\n",
    "    reader = csv.reader(f, delimiter=\"\\t\")\n",
    "    header = next(reader)\n",
    "    #print(header)\n",
    "\n",
    "    fruit_dict = {}  # create a dictionary with keys and values\n",
    "    \n",
    "    for row in reader:\n",
    "        if not 'Cherries' in row:\n",
    "            #     dict[   key   ]   = value\n",
    "            fruit_dict[int(row[0])] = row[1]  # this dictionary maps ID (as an integer) to fruit"
   ]
  },
  {
   "cell_type": "code",
   "execution_count": 22,
   "metadata": {
    "collapsed": false
   },
   "outputs": [
    {
     "name": "stdout",
     "output_type": "stream",
     "text": [
      "{920: 'Oranges', 732: 'Apples', 189: 'Apples', 302: 'Pears', 893: 'Pears'}\n"
     ]
    }
   ],
   "source": [
    "print(fruit_dict)"
   ]
  },
  {
   "cell_type": "markdown",
   "metadata": {},
   "source": [
    "A \"prettier\" way of printing a dictionary is this:"
   ]
  },
  {
   "cell_type": "code",
   "execution_count": 23,
   "metadata": {
    "collapsed": false
   },
   "outputs": [
    {
     "name": "stdout",
     "output_type": "stream",
     "text": [
      "920 Oranges\n",
      "732 Apples\n",
      "189 Apples\n",
      "302 Pears\n",
      "893 Pears\n"
     ]
    }
   ],
   "source": [
    "for key, value in fruit_dict.items():\n",
    "    print(key, value)"
   ]
  },
  {
   "cell_type": "markdown",
   "metadata": {},
   "source": [
    "The keys are IDs, and the values are fruit, but the keys and values are not classified as lists. You can, however iterate through just the keys or values."
   ]
  },
  {
   "cell_type": "code",
   "execution_count": 24,
   "metadata": {
    "collapsed": false
   },
   "outputs": [
    {
     "name": "stdout",
     "output_type": "stream",
     "text": [
      "<class 'dict_keys'> <class 'dict_values'>\n",
      "920\n",
      "732\n",
      "189\n",
      "302\n",
      "893\n",
      "Oranges\n",
      "Apples\n",
      "Apples\n",
      "Pears\n",
      "Pears\n"
     ]
    }
   ],
   "source": [
    "ids2 = fruit_dict.keys()\n",
    "fruit2 = fruit_dict.values()\n",
    "print(type(ids2), type(fruit2))\n",
    "for item in fruit_dict.keys():\n",
    "    print(item)\n",
    "for item in fruit_dict.values():\n",
    "    print(item)"
   ]
  },
  {
   "cell_type": "markdown",
   "metadata": {},
   "source": [
    "But it's easy enough to convert them into lists."
   ]
  },
  {
   "cell_type": "code",
   "execution_count": 25,
   "metadata": {
    "collapsed": false
   },
   "outputs": [
    {
     "name": "stdout",
     "output_type": "stream",
     "text": [
      "<class 'list'> <class 'list'>\n",
      "[920, 732, 189, 302, 893]\n",
      "['Oranges', 'Apples', 'Apples', 'Pears', 'Pears']\n"
     ]
    }
   ],
   "source": [
    "ids2 = list(fruit_dict.keys())\n",
    "fruit2 = list(fruit_dict.values())\n",
    "print(type(ids2), type(fruit2))\n",
    "print(ids2)\n",
    "print(fruit2)"
   ]
  },
  {
   "cell_type": "markdown",
   "metadata": {},
   "source": [
    "## Performing operations\n",
    "Once you have column information saved in lists, you can perform operations on them. For example, you can always determine how many rows you have using the `len` command on a dictionary or list."
   ]
  },
  {
   "cell_type": "code",
   "execution_count": 19,
   "metadata": {
    "collapsed": false
   },
   "outputs": [
    {
     "name": "stdout",
     "output_type": "stream",
     "text": [
      "['189', 'Apples', '73']\n",
      "['893', 'Pears', '14']\n",
      "['920', 'Oranges', '52']\n",
      "['732', 'Apples', '152']\n",
      "['302', 'Pears', '23']\n"
     ]
    }
   ],
   "source": [
    "with open('files/data_tab.txt') as f:\n",
    "    reader = csv.reader(f, delimiter=\"\\t\")\n",
    "    header = next(reader)\n",
    "    #print(header)\n",
    "\n",
    "    fruit_dict = {}  # create a dictionary with keys and values\n",
    "    \n",
    "    for row in reader:\n",
    "        if not 'Cherries' in row:\n",
    "            print(row)\n",
    "            #     dict[   key   ]   = value\n",
    "            fruit_dict[int(row[0])] = row[1]  # this dictionary maps ID (as an integer) to fruit"
   ]
  },
  {
   "cell_type": "code",
   "execution_count": 27,
   "metadata": {
    "collapsed": false
   },
   "outputs": [
    {
     "name": "stdout",
     "output_type": "stream",
     "text": [
      "5\n"
     ]
    }
   ],
   "source": [
    "print(len(fruit_dict))"
   ]
  },
  {
   "cell_type": "code",
   "execution_count": 20,
   "metadata": {
    "collapsed": false
   },
   "outputs": [
    {
     "name": "stdout",
     "output_type": "stream",
     "text": [
      "['189', 'Apples', '73']\n",
      "['283', 'Cherries', '85']\n",
      "['893', 'Pears', '14']\n",
      "['920', 'Oranges', '52']\n",
      "['732', 'Apples', '152']\n",
      "['302', 'Pears', '23']\n",
      "There are 6 records.\n",
      "Sum of Quantity: 399.0, Average Quantity: 66.5\n"
     ]
    }
   ],
   "source": [
    "with open('files/data_tab.txt') as f:\n",
    "    reader = csv.reader(f, delimiter=\"\\t\")\n",
    "    header = next(reader)\n",
    "    #print(header)\n",
    "\n",
    "    ids = []\n",
    "    fruit = []\n",
    "    quantities = []\n",
    "    \n",
    "    for row in reader:\n",
    "        print(row)\n",
    "        ids.append(int(row[0]))\n",
    "        fruit.append(row[1])\n",
    "        quantities.append(float(row[2]))\n",
    "\n",
    "print(\"There are {} records.\".format(len(ids)))\n",
    "q_sum = sum(quantities)\n",
    "# avg = sum(quantities)/ len(quantities)\n",
    "q_avg = q_sum / len(quantities)\n",
    "print(\"Sum of Quantity: {}, Average Quantity: {}\".format(q_sum, q_avg))"
   ]
  },
  {
   "cell_type": "markdown",
   "metadata": {},
   "source": [
    "## Writing to a file using *csv*"
   ]
  },
  {
   "cell_type": "markdown",
   "metadata": {},
   "source": [
    "We open a file to read to, open a file to read from, and copy over each row."
   ]
  },
  {
   "cell_type": "code",
   "execution_count": 21,
   "metadata": {
    "collapsed": false
   },
   "outputs": [],
   "source": [
    "with open(\"files/data_tab_out2.txt\", \"w\", newline=\"\") as outfile:     # open output file (csv)\n",
    "    writer = csv.writer(outfile)\n",
    "    with open(\"files/data_tab.txt\", \"r\") as infile:                   # open input file (tsv)\n",
    "        reader = csv.reader(infile, delimiter='\\t')             # read from input file\n",
    "        for row in reader:\n",
    "            writer.writerow(row)                                # write to output file"
   ]
  },
  {
   "cell_type": "markdown",
   "metadata": {},
   "source": [
    "Let's look to see if the information copied over correctly."
   ]
  },
  {
   "cell_type": "code",
   "execution_count": 22,
   "metadata": {
    "collapsed": false
   },
   "outputs": [
    {
     "name": "stdout",
     "output_type": "stream",
     "text": [
      "['ID', 'Fruit', 'Quantity']\n",
      "['189', 'Apples', '73']\n",
      "['283', 'Cherries', '85']\n",
      "['893', 'Pears', '14']\n",
      "['920', 'Oranges', '52']\n",
      "['732', 'Apples', '152']\n",
      "['302', 'Pears', '23']\n"
     ]
    }
   ],
   "source": [
    "with open(\"files/data_tab_out2.txt\") as f:\n",
    "    reader = csv.reader(f)\n",
    "    # uncomment line below if you want to skip the header\n",
    "    # header = next(reader) \n",
    "    for row in reader:\n",
    "        print(row)"
   ]
  },
  {
   "cell_type": "markdown",
   "metadata": {},
   "source": [
    "If we want to make modifications to the data, we need to save the data first. Maybe we want to add 10.5 to the Quantity column."
   ]
  },
  {
   "cell_type": "code",
   "execution_count": 23,
   "metadata": {
    "collapsed": false
   },
   "outputs": [
    {
     "name": "stdout",
     "output_type": "stream",
     "text": [
      "['189', 'Apples', '83.5']\n",
      "['283', 'Cherries', '95.5']\n",
      "['893', 'Pears', '24.5']\n",
      "['920', 'Oranges', '62.5']\n",
      "['732', 'Apples', '162.5']\n",
      "['302', 'Pears', '33.5']\n"
     ]
    }
   ],
   "source": [
    "# create empty lists to store the data in\n",
    "ids = []\n",
    "fruit = []\n",
    "quantities = []\n",
    "\n",
    "# open and save data from input file\n",
    "with open('files/data_tab.txt') as infile:\n",
    "    reader = csv.reader(infile, delimiter=\"\\t\")\n",
    "    header = next(reader)   # skip header\n",
    "   \n",
    "    for row in reader:\n",
    "        ids.append(int(row[0]))\n",
    "        fruit.append(row[1])\n",
    "        quantities.append(float(row[2]))\n",
    "        \n",
    "# data now in the following lists: ids, fruit, quantities\n",
    "# number of records\n",
    "num_records = len(ids)\n",
    "\n",
    "# write to new file\n",
    "with open(\"files/data_tab_out3.csv\", \"w\", newline=\"\") as outfile:     # open output file (csv)\n",
    "    writer = csv.writer(outfile)\n",
    "    for i in range(num_records):\n",
    "        # modified file with 10.5 added to quantity\n",
    "        row = [ids[i], fruit[i], quantities[i] + 10.5]\n",
    "        writer.writerow(row)\n",
    "\n",
    "# read the new file\n",
    "with open(\"files/data_tab_out3.csv\") as f:\n",
    "    reader = csv.reader(f)\n",
    "    for row in reader:\n",
    "        print(row)"
   ]
  },
  {
   "cell_type": "markdown",
   "metadata": {},
   "source": [
    "In the previous example it was such a small modification to add 10.5 to the Quantity column that we could easily do it *while* writing to a new file. But if you're making a few more changes it's better to make the modifications *before* writing to a new file. "
   ]
  },
  {
   "cell_type": "code",
   "execution_count": 24,
   "metadata": {
    "collapsed": false
   },
   "outputs": [
    {
     "name": "stdout",
     "output_type": "stream",
     "text": [
      "['189', 'Apples', 'Appl', '73.0', '83.5']\n",
      "['283', 'Cherries', 'Cher', '85.0', '95.5']\n",
      "['893', 'Pears', 'Pear', '14.0', '24.5']\n",
      "['920', 'Oranges', 'Oran', '52.0', '62.5']\n",
      "['732', 'Apples', 'Appl', '152.0', '162.5']\n",
      "['302', 'Pears', 'Pear', '23.0', '33.5']\n"
     ]
    }
   ],
   "source": [
    "# create empty lists to store the data in\n",
    "ids = []\n",
    "fruit = []\n",
    "quantities = []\n",
    "\n",
    "# open and save data from input file\n",
    "with open('files/data_tab.txt') as infile:\n",
    "    reader = csv.reader(infile, delimiter=\"\\t\")\n",
    "    header = next(reader)\n",
    "    #print(header)\n",
    "   \n",
    "    for row in reader:\n",
    "        #print(row)\n",
    "        ids.append(int(row[0]))\n",
    "        fruit.append(row[1])\n",
    "        quantities.append(float(row[2]))\n",
    "        \n",
    "# data now in the following lists: ids, fruit, quantities\n",
    "\n",
    "## make modifications BEFORE writing to file\n",
    "# add 10.5 to each quantity\n",
    "new_quantities = [x + 10.5 for x in quantities]\n",
    "# take first four letters of each fruit\n",
    "new_fruit = [f[:4] for f in fruit]\n",
    "\n",
    "# number of records\n",
    "num_records = len(ids)\n",
    "\n",
    "# write to new file\n",
    "with open(\"files/data_tab_out3.csv\", \"w\", newline=\"\") as outfile:     # open output file (csv)\n",
    "    writer = csv.writer(outfile)\n",
    "    for i in range(num_records):\n",
    "        row = [ids[i], fruit[i], new_fruit[i], quantities[i], new_quantities[i]]\n",
    "        writer.writerow(row)\n",
    "\n",
    "# read the new file\n",
    "with open(\"files/data_tab_out3.csv\") as f:\n",
    "    reader = csv.reader(f)\n",
    "    for row in reader:\n",
    "        print(row)"
   ]
  },
  {
   "cell_type": "markdown",
   "metadata": {
    "collapsed": true
   },
   "source": [
    "See [here](https://docs.python.org/3.4/library/csv.html) and [here](https://pymotw.com/3/csv/#quoting) for more."
   ]
  },
  {
   "cell_type": "code",
   "execution_count": null,
   "metadata": {
    "collapsed": true
   },
   "outputs": [],
   "source": []
  }
 ],
 "metadata": {
  "kernelspec": {
   "display_name": "Python 3",
   "language": "python",
   "name": "python3"
  },
  "language_info": {
   "codemirror_mode": {
    "name": "ipython",
    "version": 3
   },
   "file_extension": ".py",
   "mimetype": "text/x-python",
   "name": "python",
   "nbconvert_exporter": "python",
   "pygments_lexer": "ipython3",
   "version": "3.5.2"
  }
 },
 "nbformat": 4,
 "nbformat_minor": 1
}
