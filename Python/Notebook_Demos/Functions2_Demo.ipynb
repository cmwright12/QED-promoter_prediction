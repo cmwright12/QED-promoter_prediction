{
 "cells": [
  {
   "cell_type": "markdown",
   "metadata": {},
   "source": [
    "# Defining Functions"
   ]
  },
  {
   "cell_type": "markdown",
   "metadata": {},
   "source": [
    "Programming is great for automating repetitive tasks, but what if the code itself becomes repetitive?"
   ]
  },
  {
   "cell_type": "markdown",
   "metadata": {},
   "source": [
    "Let's say we are letting users define a variable in their code, but we have certain conditions. It must begin with a letter, it cannot contain spaces, and we'd really like to cap the length at 10."
   ]
  },
  {
   "cell_type": "code",
   "execution_count": 22,
   "metadata": {
    "collapsed": false
   },
   "outputs": [
    {
     "name": "stdout",
     "output_type": "stream",
     "text": [
      "Create a variable name: turkey\n"
     ]
    }
   ],
   "source": [
    "vbname = input(\"Create a variable name: \")"
   ]
  },
  {
   "cell_type": "code",
   "execution_count": 23,
   "metadata": {
    "collapsed": false
   },
   "outputs": [
    {
     "name": "stdout",
     "output_type": "stream",
     "text": [
      "turkey is a valid variable name.\n"
     ]
    }
   ],
   "source": [
    "if len(vbname) <= 10:\n",
    "    if not \" \" in vbname:\n",
    "        if not vbname[0].isdigit():\n",
    "            print(\"{} is a valid variable name.\".format(vbname))\n",
    "        else:\n",
    "            print(\"{} is not a valid variable name.\".format(vbname))\n",
    "    else:\n",
    "        print(\"{} is not a valid variable name.\".format(vbname))\n",
    "else:\n",
    "    print(\"{} is not a valid variable name.\".format(vbname))"
   ]
  },
  {
   "cell_type": "markdown",
   "metadata": {},
   "source": [
    "Running this code several times in Jupyter is quite simple. But if we are writing a script, to run it twice, do we just copy the code twice?"
   ]
  },
  {
   "cell_type": "code",
   "execution_count": 11,
   "metadata": {
    "collapsed": false
   },
   "outputs": [
    {
     "name": "stdout",
     "output_type": "stream",
     "text": [
      "Create a variable name: temperature\n",
      "temperature is not a valid variable name.\n",
      "Create a variable name: temp\n",
      "temp is a valid variable name.\n"
     ]
    }
   ],
   "source": [
    "vbname = input(\"Create a variable name: \")\n",
    "if len(vbname) <= 10:\n",
    "    if not \" \" in vbname:\n",
    "        if not vbname[0].isdigit():\n",
    "            print(\"{} is a valid variable name.\".format(vbname))\n",
    "        else:\n",
    "            print(\"{} is not a valid variable name.\".format(vbname))\n",
    "    else:\n",
    "        print(\"{} is not a valid variable name.\".format(vbname))\n",
    "else:\n",
    "    print(\"{} is not a valid variable name.\".format(vbname))\n",
    "\n",
    "vbname = input(\"Create a variable name: \")\n",
    "if len(vbname) <= 10:\n",
    "    if not \" \" in vbname:\n",
    "        if not vbname[0].isdigit():\n",
    "            print(\"{} is a valid variable name.\".format(vbname))\n",
    "        else:\n",
    "            print(\"{} is not a valid variable name.\".format(vbname))\n",
    "    else:\n",
    "        print(\"{} is not a valid variable name.\".format(vbname))\n",
    "else:\n",
    "    print(\"{} is not a valid variable name.\".format(vbname))"
   ]
  },
  {
   "cell_type": "markdown",
   "metadata": {},
   "source": [
    "Even copying the same code just twice seems a little clunky. Imagine if we were trying to create 10 variables for some mathematical model. It would be nice if we could write this code once, but make it re-usable. And everytime we wanted to run it, it would only take one line. So we can imagine we would give it the variable name (the input) and it just tells us if it's valid or not (the output). That's precisely what makes it a function."
   ]
  },
  {
   "cell_type": "code",
   "execution_count": 13,
   "metadata": {
    "collapsed": false
   },
   "outputs": [],
   "source": [
    "def is_valid_variable(vbname):\n",
    "    if len(vbname) <= 10:\n",
    "        if not \" \" in vbname:\n",
    "            if not vbname[0].isdigit():\n",
    "                print(\"{} is a valid variable name.\".format(vbname))\n",
    "            else:\n",
    "                print(\"{} is not a valid variable name.\".format(vbname))\n",
    "        else:\n",
    "            print(\"{} is not a valid variable name.\".format(vbname))\n",
    "    else:\n",
    "        print(\"{} is not a valid variable name.\".format(vbname))"
   ]
  },
  {
   "cell_type": "markdown",
   "metadata": {},
   "source": [
    "It looks like it didn't do anything. Or did it?"
   ]
  },
  {
   "cell_type": "code",
   "execution_count": 14,
   "metadata": {
    "collapsed": false
   },
   "outputs": [
    {
     "data": {
      "text/plain": [
       "<function __main__.is_valid_variable>"
      ]
     },
     "execution_count": 14,
     "metadata": {},
     "output_type": "execute_result"
    }
   ],
   "source": [
    "is_valid_variable"
   ]
  },
  {
   "cell_type": "markdown",
   "metadata": {},
   "source": [
    "Okay, it recognizes we just defined a function. We haven't used the function or given it any input, so we shouldn't expect any output."
   ]
  },
  {
   "cell_type": "code",
   "execution_count": 15,
   "metadata": {
    "collapsed": false
   },
   "outputs": [
    {
     "name": "stdout",
     "output_type": "stream",
     "text": [
      "turkey is a valid variable name.\n"
     ]
    }
   ],
   "source": [
    "is_valid_variable('turkey')"
   ]
  },
  {
   "cell_type": "code",
   "execution_count": 16,
   "metadata": {
    "collapsed": false
   },
   "outputs": [
    {
     "name": "stdout",
     "output_type": "stream",
     "text": [
      "123math is not a valid variable name.\n"
     ]
    }
   ],
   "source": [
    "is_valid_variable('123math')"
   ]
  },
  {
   "cell_type": "code",
   "execution_count": 17,
   "metadata": {
    "collapsed": false
   },
   "outputs": [
    {
     "name": "stdout",
     "output_type": "stream",
     "text": [
      "darth vader is not a valid variable name.\n"
     ]
    }
   ],
   "source": [
    "is_valid_variable('darth vader')"
   ]
  },
  {
   "cell_type": "code",
   "execution_count": 18,
   "metadata": {
    "collapsed": false
   },
   "outputs": [
    {
     "name": "stdout",
     "output_type": "stream",
     "text": [
      "math123 is a valid variable name.\n"
     ]
    }
   ],
   "source": [
    "is_valid_variable('math123')"
   ]
  },
  {
   "cell_type": "code",
   "execution_count": 19,
   "metadata": {
    "collapsed": false
   },
   "outputs": [
    {
     "name": "stdout",
     "output_type": "stream",
     "text": [
      "temperature is not a valid variable name.\n"
     ]
    }
   ],
   "source": [
    "is_valid_variable('temperature')"
   ]
  },
  {
   "cell_type": "markdown",
   "metadata": {},
   "source": [
    "Maybe you don't like the fact that temperature is not valid. This can be changed by changing the code of the definition. Let's cap the length at 20 instead."
   ]
  },
  {
   "cell_type": "code",
   "execution_count": 20,
   "metadata": {
    "collapsed": false
   },
   "outputs": [],
   "source": [
    "def is_valid_variable(vbname):\n",
    "    if len(vbname) <= 20:\n",
    "        if not \" \" in vbname:\n",
    "            if not vbname[0].isdigit():\n",
    "                print(\"{} is a valid variable name.\".format(vbname))\n",
    "            else:\n",
    "                print(\"{} is not a valid variable name.\".format(vbname))\n",
    "        else:\n",
    "            print(\"{} is not a valid variable name.\".format(vbname))\n",
    "    else:\n",
    "        print(\"{} is not a valid variable name.\".format(vbname))"
   ]
  },
  {
   "cell_type": "code",
   "execution_count": 21,
   "metadata": {
    "collapsed": false
   },
   "outputs": [
    {
     "name": "stdout",
     "output_type": "stream",
     "text": [
      "temperature is a valid variable name.\n"
     ]
    }
   ],
   "source": [
    "is_valid_variable(\"temperature\")"
   ]
  },
  {
   "cell_type": "code",
   "execution_count": null,
   "metadata": {
    "collapsed": true
   },
   "outputs": [],
   "source": []
  }
 ],
 "metadata": {
  "kernelspec": {
   "display_name": "Python 3",
   "language": "python",
   "name": "python3"
  },
  "language_info": {
   "codemirror_mode": {
    "name": "ipython",
    "version": 3
   },
   "file_extension": ".py",
   "mimetype": "text/x-python",
   "name": "python",
   "nbconvert_exporter": "python",
   "pygments_lexer": "ipython3",
   "version": "3.5.2"
  }
 },
 "nbformat": 4,
 "nbformat_minor": 2
}
