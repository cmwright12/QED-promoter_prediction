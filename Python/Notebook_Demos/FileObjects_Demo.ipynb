{
 "cells": [
  {
   "cell_type": "markdown",
   "metadata": {},
   "source": [
    "# Reading and Writing to Files\n",
    "\n",
    "1. Open and read text file\n",
    "2. Read, readlines, readline\n",
    "3. Parsing lines and saving information\n",
    "4. Files with headers\n",
    "5. Converting from string to other data types\n",
    "6. Performing operations\n",
    "7. Writing to a file"
   ]
  },
  {
   "cell_type": "markdown",
   "metadata": {},
   "source": [
    "## Open and read a text file line by line"
   ]
  },
  {
   "cell_type": "markdown",
   "metadata": {},
   "source": [
    "Using the open command with a filename and an action creates a handle for a file. Reading a file is a default option. If you are writing to a file or appending, you must explicitly provide that option."
   ]
  },
  {
   "cell_type": "code",
   "execution_count": 1,
   "metadata": {
    "collapsed": false
   },
   "outputs": [
    {
     "name": "stdout",
     "output_type": "stream",
     "text": [
      "Steven,apples,3.0\n",
      "\n",
      "Adam,cherries,4.3\n",
      "\n",
      "Karen,apples,5.6\n",
      "\n",
      "April,grapes,0.4\n"
     ]
    }
   ],
   "source": [
    "f = open(\"files/csvdemo.txt\", \"r\")\n",
    "for line in f:\n",
    "    print(line)\n",
    "f.close()"
   ]
  },
  {
   "cell_type": "markdown",
   "metadata": {},
   "source": [
    "Notice that the `f.close()` is the last line. It is considered good practice to close a file so that it can no longer be written to or read from. It can be easy to forget, so there is another option using the `with` statement."
   ]
  },
  {
   "cell_type": "code",
   "execution_count": 2,
   "metadata": {
    "collapsed": false
   },
   "outputs": [
    {
     "name": "stdout",
     "output_type": "stream",
     "text": [
      "Steven,apples,3.0\n",
      "\n",
      "Adam,cherries,4.3\n",
      "\n",
      "Karen,apples,5.6\n",
      "\n",
      "April,grapes,0.4\n"
     ]
    }
   ],
   "source": [
    "with open(\"files/csvdemo.txt\", \"r\") as f:\n",
    "    for line in f:\n",
    "        print(line)"
   ]
  },
  {
   "cell_type": "markdown",
   "metadata": {},
   "source": [
    "Note that these are read as strings. The \"r\" parameter means you are reading from this file. The reading mode is the default, so it is not strictly necessary to supply it unless you want more options."
   ]
  },
  {
   "cell_type": "code",
   "execution_count": 3,
   "metadata": {
    "collapsed": false
   },
   "outputs": [
    {
     "name": "stdout",
     "output_type": "stream",
     "text": [
      "<class '_io.TextIOWrapper'>\n",
      "<class 'str'>\n",
      "<class 'str'>\n",
      "<class 'str'>\n",
      "<class 'str'>\n"
     ]
    }
   ],
   "source": [
    "with open(\"files/csvdemo.txt\") as f:\n",
    "    print(type(f))\n",
    "    for line in f:\n",
    "        print(type(line))"
   ]
  },
  {
   "cell_type": "markdown",
   "metadata": {},
   "source": [
    "If you want the name of the file, use the `.name` method on the file object."
   ]
  },
  {
   "cell_type": "code",
   "execution_count": 4,
   "metadata": {
    "collapsed": false
   },
   "outputs": [
    {
     "data": {
      "text/plain": [
       "'files/csvdemo.txt'"
      ]
     },
     "execution_count": 4,
     "metadata": {},
     "output_type": "execute_result"
    }
   ],
   "source": [
    "f.name"
   ]
  },
  {
   "cell_type": "markdown",
   "metadata": {},
   "source": [
    "## Read commands"
   ]
  },
  {
   "cell_type": "markdown",
   "metadata": {},
   "source": [
    "There are three options of reading information from a file."
   ]
  },
  {
   "cell_type": "markdown",
   "metadata": {},
   "source": [
    "* `read(size)` -> size is an optional numeric argument and this func returns a quantity of data equal to size. If size if omitted, then it reads the entire file and returns it\n",
    "* `readline()` -> reads a single line from file with newline at the end\n",
    "* `readlines()` -> returns a list containing all the lines in the file"
   ]
  },
  {
   "cell_type": "code",
   "execution_count": 5,
   "metadata": {
    "collapsed": false
   },
   "outputs": [
    {
     "name": "stdout",
     "output_type": "stream",
     "text": [
      "Steven,apples,3.0\n",
      "Adam,cherries,4.3\n",
      "Karen,apples,5.6\n",
      "April,grapes,0.4\n"
     ]
    }
   ],
   "source": [
    "with open(\"files/csvdemo.txt\") as fo:\n",
    "    data = fo.read()\n",
    "    print(data)"
   ]
  },
  {
   "cell_type": "markdown",
   "metadata": {},
   "source": [
    "The `.readline` method literally reads one line at a time."
   ]
  },
  {
   "cell_type": "code",
   "execution_count": 6,
   "metadata": {
    "collapsed": false
   },
   "outputs": [
    {
     "name": "stdout",
     "output_type": "stream",
     "text": [
      "Steven,apples,3.0\n",
      "\n"
     ]
    }
   ],
   "source": [
    "with open(\"files/csvdemo.txt\") as fo:\n",
    "    line = fo.readline()\n",
    "    print(line)"
   ]
  },
  {
   "cell_type": "code",
   "execution_count": 7,
   "metadata": {
    "collapsed": false
   },
   "outputs": [
    {
     "name": "stdout",
     "output_type": "stream",
     "text": [
      "Steven,apples,3.0\n",
      "\n",
      "Adam,cherries,4.3\n",
      "\n"
     ]
    }
   ],
   "source": [
    "with open(\"files/csvdemo.txt\") as fo:\n",
    "    line1 = fo.readline()\n",
    "    print(line)\n",
    "    line2 = fo.readline()\n",
    "    print(line2)"
   ]
  },
  {
   "cell_type": "markdown",
   "metadata": {},
   "source": [
    "#### Note:\n",
    "This is especially useful if there are lines at the beginning of the file you want to skip."
   ]
  },
  {
   "cell_type": "markdown",
   "metadata": {},
   "source": [
    "The `.readlines` method does what it says it does: reads all the lines. Each line is saved as a string and composed into a list."
   ]
  },
  {
   "cell_type": "code",
   "execution_count": 8,
   "metadata": {
    "collapsed": false
   },
   "outputs": [
    {
     "name": "stdout",
     "output_type": "stream",
     "text": [
      "Read Line: ['Steven,apples,3.0\\n', 'Adam,cherries,4.3\\n', 'Karen,apples,5.6\\n', 'April,grapes,0.4']\n"
     ]
    }
   ],
   "source": [
    "with open(\"files/csvdemo.txt\") as fo:\n",
    "    line = fo.readlines()\n",
    "    print(\"Read Line: {}\".format(line))"
   ]
  },
  {
   "cell_type": "code",
   "execution_count": 9,
   "metadata": {
    "collapsed": false
   },
   "outputs": [
    {
     "name": "stdout",
     "output_type": "stream",
     "text": [
      "Line 1: Steven,apples,3.0\n",
      "\n",
      "Rest: ['Adam,cherries,4.3\\n', 'Karen,apples,5.6\\n', 'April,grapes,0.4']\n"
     ]
    }
   ],
   "source": [
    "with open(\"files/csvdemo.txt\") as fo:\n",
    "    line1 = fo.readline()\n",
    "    rest = fo.readlines()\n",
    "    print(\"Line 1: {}\".format(line1))\n",
    "    print(\"Rest: {}\".format(rest))"
   ]
  },
  {
   "cell_type": "markdown",
   "metadata": {},
   "source": [
    "There's a pesky newline character `\\n` that we want to get rid of."
   ]
  },
  {
   "cell_type": "code",
   "execution_count": 20,
   "metadata": {
    "collapsed": false
   },
   "outputs": [
    {
     "name": "stdout",
     "output_type": "stream",
     "text": [
      "['Steven,apples,3.0\\n', 'Adam,cherries,4.3\\n', 'Karen,apples,5.6\\n', 'April,grapes,0.4']\n",
      "Steven,apples,3.0\n",
      "\n",
      "Adam,cherries,4.3\n",
      "\n",
      "Karen,apples,5.6\n",
      "\n",
      "April,grapes,0.4\n"
     ]
    }
   ],
   "source": [
    "with open(\"files/csvdemo.txt\") as fo:\n",
    "    data = fo.readlines()\n",
    "    print(data)\n",
    "    for line in data:\n",
    "        print(line)"
   ]
  },
  {
   "cell_type": "markdown",
   "metadata": {},
   "source": [
    "The `.rstrip()` function is useful for removing trailing white space."
   ]
  },
  {
   "cell_type": "code",
   "execution_count": 27,
   "metadata": {
    "collapsed": false
   },
   "outputs": [
    {
     "name": "stdout",
     "output_type": "stream",
     "text": [
      "['Steven,apples,3.0\\n', 'Adam,cherries,4.3\\n', 'Karen,apples,5.6\\n', 'April,grapes,0.4']\n",
      "Steven,apples,3.0\n",
      "Adam,cherries,4.3\n",
      "Karen,apples,5.6\n",
      "April,grapes,0.4\n"
     ]
    }
   ],
   "source": [
    "with open(\"files/csvdemo.txt\") as fo:\n",
    "    data = fo.readlines()\n",
    "    print(data)\n",
    "    for line in data:\n",
    "        line = line.rstrip('\\n')\n",
    "        print(line)"
   ]
  },
  {
   "cell_type": "markdown",
   "metadata": {},
   "source": [
    "## Reading FASTA files\n",
    "See the \"FilesReadingFasta_Demo.ipynb\" notebook."
   ]
  },
  {
   "cell_type": "markdown",
   "metadata": {},
   "source": [
    "# Writing to files"
   ]
  },
  {
   "cell_type": "code",
   "execution_count": 1,
   "metadata": {
    "collapsed": true
   },
   "outputs": [],
   "source": [
    "#with open('data') as input_file, open('result', 'w') as output_file:\n",
    "#   for line in input_file:\n",
    "#     output_file.write(parse(line))"
   ]
  }
 ],
 "metadata": {
  "kernelspec": {
   "display_name": "Python 3",
   "language": "python",
   "name": "python3"
  },
  "language_info": {
   "codemirror_mode": {
    "name": "ipython",
    "version": 3
   },
   "file_extension": ".py",
   "mimetype": "text/x-python",
   "name": "python",
   "nbconvert_exporter": "python",
   "pygments_lexer": "ipython3",
   "version": "3.5.2"
  }
 },
 "nbformat": 4,
 "nbformat_minor": 1
}
